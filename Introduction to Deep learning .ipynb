{
 "cells": [
  {
   "cell_type": "code",
   "execution_count": 1,
   "id": "16226b12-780e-4478-a801-9e55ac4e0be0",
   "metadata": {},
   "outputs": [],
   "source": [
    "# Introduction to Deep Learning"
   ]
  },
  {
   "cell_type": "code",
   "execution_count": 2,
   "id": "688b2b01-3916-4ebc-be43-2f4a4a3ba546",
   "metadata": {},
   "outputs": [],
   "source": [
    "# 1) ML Models ---> works well on less complexx data, works well on linear data..\n",
    "#     but DL models ---> works well on complex data, and non-linear data.\n",
    "# 2) DL ----> representative learning---> input to result but middle process vanish.\n",
    "\n",
    "#     # DL works on Human Neuron system.\n",
    "    "
   ]
  },
  {
   "cell_type": "code",
   "execution_count": 3,
   "id": "4733c77a-944c-4a39-80a5-82906c95aad6",
   "metadata": {},
   "outputs": [],
   "source": [
    "# Artitecture on Ml Models---->\n",
    "# Data Ingestion ---> Data Cleaning and preprocessing ---> select ML models based on the target---->\n",
    "# Model training ----> Model Prediction ---> Model Accuracy.\n",
    "    "
   ]
  },
  {
   "cell_type": "code",
   "execution_count": 6,
   "id": "0f35aefb-c332-4d9b-8af7-98a36f0c2f88",
   "metadata": {},
   "outputs": [],
   "source": [
    "# # Architecture of DL Models---->\n",
    "# # Data Ingestion ---> Data Cleaning and Preprocessing -->\n",
    "# # Model Sequential Layer (\n",
    "#   input_layers(neurons, activation_function, input_dimension),\n",
    "#   hidden_layer (neurons , activation_function),\n",
    "#   output_layer(neurons, activation_function)\n",
    "# )\n",
    "\n",
    "# Model.compile(loss_function,optimizers,metrics)\n",
    "# Model.training\n",
    "# Model.prediction\n",
    "# Model.Accuracy,Loss"
   ]
  },
  {
   "cell_type": "code",
   "execution_count": 7,
   "id": "7bf31eb9-230d-4835-a360-216890a7f643",
   "metadata": {},
   "outputs": [],
   "source": [
    "# Type of Dl Models .....>>\n",
    "# 1) ANN(Artifical Neural Networks) ---> for tabular data.\n",
    "# 2) CNN(Convolutional Neural Networks) ---> for images related data.\n",
    "# 3) RNN(Recurrent Neural Networks)  ----> for sequential data."
   ]
  },
  {
   "cell_type": "code",
   "execution_count": null,
   "id": "cabcc42e-0e28-41e2-96a9-e367698fa0c9",
   "metadata": {},
   "outputs": [],
   "source": [
    "# Age(11)\n",
    "#         (x21)\n",
    "# bmi(x12)          (x31) ----- Model compile ---> Model result(charges)\n",
    "#             (x22)    (output layer)\n",
    "# children(x13)  (hidden layer)\n",
    "\n",
    "# input layer"
   ]
  }
 ],
 "metadata": {
  "kernelspec": {
   "display_name": "Python 3 (ipykernel)",
   "language": "python",
   "name": "python3"
  },
  "language_info": {
   "codemirror_mode": {
    "name": "ipython",
    "version": 3
   },
   "file_extension": ".py",
   "mimetype": "text/x-python",
   "name": "python",
   "nbconvert_exporter": "python",
   "pygments_lexer": "ipython3",
   "version": "3.14.0"
  }
 },
 "nbformat": 4,
 "nbformat_minor": 5
}
